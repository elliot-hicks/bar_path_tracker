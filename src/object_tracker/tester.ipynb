{
 "cells": [
  {
   "cell_type": "code",
   "execution_count": 2,
   "metadata": {},
   "outputs": [],
   "source": [
    "from object_tracker import ObjectTracker"
   ]
  },
  {
   "cell_type": "code",
   "execution_count": 6,
   "metadata": {},
   "outputs": [
    {
     "data": {
      "text/plain": [
       "((203, 123, 95, 122), (250, 184), 0.003524590163934426)"
      ]
     },
     "execution_count": 6,
     "metadata": {},
     "output_type": "execute_result"
    }
   ],
   "source": [
    "t = ObjectTracker()\n",
    "#t.open_and_display_video(t.video_path)\n",
    "#t.get_tracker()\n",
    "#t.get_starting_bbox(t.video_path, 0.43)"
   ]
  }
 ],
 "metadata": {
  "kernelspec": {
   "display_name": "bar_path",
   "language": "python",
   "name": "bar_path"
  },
  "language_info": {
   "codemirror_mode": {
    "name": "ipython",
    "version": 3
   },
   "file_extension": ".py",
   "mimetype": "text/x-python",
   "name": "python",
   "nbconvert_exporter": "python",
   "pygments_lexer": "ipython3",
   "version": "3.10.4"
  },
  "orig_nbformat": 4
 },
 "nbformat": 4,
 "nbformat_minor": 2
}
